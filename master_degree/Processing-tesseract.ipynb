{
 "cells": [
  {
   "cell_type": "code",
   "execution_count": 6,
   "id": "6e4bc59c-a52f-4ad9-9474-cc40033b73ac",
   "metadata": {},
   "outputs": [],
   "source": [
    "import cv2\n",
    "import pytesseract"
   ]
  },
  {
   "cell_type": "code",
   "execution_count": 7,
   "id": "f899e32a-79b4-426c-8b26-50a5804212f5",
   "metadata": {},
   "outputs": [
    {
     "data": {
      "text/plain": [
       "' \\n\\n— Write Everyday\\n\\n \\n\\nNov. 11\\n\\nCall me Ishmael. Some years ago-never mind how long precisely-\\nhaving Little or no money in my purse, and nothing particular to\\ninterest me on shore, I thought I would sail about a little and\\nsee the watery part of the world. It is a way I have of driving\\noff the spleen and regulating the circulation. Whenever I find\\nmyself growing grim about the mouth; whenever it is a damp,\\ndrizzly November in my soul; whenever I find myself involuntarily\\npausing before coffin warehouses, and bringing up the rear of\\nevery funeral I meet; and especially whenever my hypos get such an\\nupper hand of me, that it requires a strong moral principle to\\n\\n \\n\\x0c'"
      ]
     },
     "execution_count": 7,
     "metadata": {},
     "output_type": "execute_result"
    }
   ],
   "source": [
    "img = cv2.imread(\"./Input-test/plain-text.png\")\n",
    "# img = cv2.imread(\"./Input-test/chang_test.jpg\")\n",
    "img = cv2.cvtColor(img, cv2.COLOR_BGR2GRAY)\n",
    "thresh, im_bw = cv2.threshold(img, 150, 255, cv2.THRESH_BINARY)\n",
    "# display_img(im_bw)\n",
    "text =  pytesseract.image_to_string(im_bw)\n",
    "text"
   ]
  },
  {
   "cell_type": "code",
   "execution_count": 8,
   "id": "e32b8262-0dff-47f4-ba1e-e9b212993f3b",
   "metadata": {},
   "outputs": [
    {
     "data": {
      "text/plain": [
       "'\\x0c'"
      ]
     },
     "execution_count": 8,
     "metadata": {},
     "output_type": "execute_result"
    }
   ],
   "source": [
    "img = cv2.imread(\"./Input-test/chang_test.jpg\")\n",
    "img = cv2.cvtColor(img, cv2.COLOR_BGR2GRAY)\n",
    "thresh, im_bw = cv2.threshold(img, 150, 255, cv2.THRESH_BINARY)\n",
    "# display_img(im_bw)\n",
    "text =  pytesseract.image_to_string(im_bw)\n",
    "text"
   ]
  },
  {
   "cell_type": "code",
   "execution_count": null,
   "id": "2041c520-ccb7-448c-9e6b-fe4c59e90da8",
   "metadata": {},
   "outputs": [],
   "source": []
  }
 ],
 "metadata": {
  "kernelspec": {
   "display_name": "Python 3 (ipykernel)",
   "language": "python",
   "name": "python3"
  },
  "language_info": {
   "codemirror_mode": {
    "name": "ipython",
    "version": 3
   },
   "file_extension": ".py",
   "mimetype": "text/x-python",
   "name": "python",
   "nbconvert_exporter": "python",
   "pygments_lexer": "ipython3",
   "version": "3.10.12"
  }
 },
 "nbformat": 4,
 "nbformat_minor": 5
}
