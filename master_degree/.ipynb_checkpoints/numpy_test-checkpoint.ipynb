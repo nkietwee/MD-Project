{
 "cells": [
  {
   "cell_type": "code",
   "execution_count": 2,
   "id": "cbbba86a-6952-4418-bbe6-e49bfc608b7a",
   "metadata": {},
   "outputs": [],
   "source": [
    "import numpy as np"
   ]
  },
  {
   "cell_type": "code",
   "execution_count": 3,
   "id": "116b6c80-6311-4619-9526-99e4fb9b88cc",
   "metadata": {},
   "outputs": [
    {
     "name": "stdout",
     "output_type": "stream",
     "text": [
      "Result without specifying axis:\n",
      "[1 2 3 4 5 6 7 8]\n",
      "Shape: (8,)\n"
     ]
    }
   ],
   "source": [
    "# Create two sample 2D arrays (e.g., grayscale images)\n",
    "img1 = np.array([[1, 2], [3, 4]])  # Shape (2, 2)\n",
    "img2 = np.array([[5, 6], [7, 8]])  # Shape (2, 2)\n",
    "\n",
    "# Using np.append without specifying axis\n",
    "result = np.append(img1, img2)\n",
    "print(\"Result without specifying axis:\")\n",
    "print(result)\n",
    "print(\"Shape:\", result.shape)\n"
   ]
  },
  {
   "cell_type": "code",
   "execution_count": 21,
   "id": "a7ffe771-cd59-4d40-b675-d5a7239d8109",
   "metadata": {},
   "outputs": [
    {
     "name": "stdout",
     "output_type": "stream",
     "text": [
      "Result without specifying axis:\n",
      "[[ 1  2]\n",
      " [ 3  4]\n",
      " [ 5  6]\n",
      " [ 7  8]\n",
      " [ 9 10]]\n",
      "Shape: (5, 2)\n"
     ]
    }
   ],
   "source": [
    "img1 = np.array([[1, 2], [3, 4]])  # Shape (2, 2)\n",
    "# img2 = np.array([[5, 6], [7, 8]])  # Shape (2, 2)\n",
    "# img2 = np.array([[5, 6], [7, 8, 9]])  # Shape (2, 2)\n",
    "img2 = np.array([[5, 6], [7, 8], [9, 10]])  # Shape (2, 2)\n",
    "\n",
    "# Using np.append without specifying axis\n",
    "result = np.append(img1, img2, axis=0)\n",
    "print(\"Result without specifying axis:\")\n",
    "print(result)\n",
    "print(\"Shape:\", result.shape)"
   ]
  },
  {
   "cell_type": "markdown",
   "id": "bb3688dd-3cd9-4f9b-a3ed-b8caea8fd97b",
   "metadata": {},
   "source": [
    "#### array[start_row:end_row, start_column:end_column]\n"
   ]
  },
  {
   "cell_type": "code",
   "execution_count": 33,
   "id": "9293fb47-12df-4f48-9159-e293c7de3bb8",
   "metadata": {},
   "outputs": [
    {
     "data": {
      "text/plain": [
       "array([8])"
      ]
     },
     "execution_count": 33,
     "metadata": {},
     "output_type": "execute_result"
    }
   ],
   "source": [
    "result[3:4,1]"
   ]
  },
  {
   "cell_type": "code",
   "execution_count": 8,
   "id": "08007c5f-8142-47cb-a5c0-1a697340bdca",
   "metadata": {},
   "outputs": [],
   "source": [
    "# Create two sample color images (3D arrays)\n",
    "# Image 1 (2x2 pixels, 3 color channels)\n",
    "img1 = np.array([[[255, 0, 0], [255, 0, 0]],  # Red color\n",
    "                  [[0, 255, 0], [0, 255, 0]]])  # Green color\n",
    "\n",
    "# Image 2 (2x2 pixels, 3 color channels)\n",
    "img2 = np.array([[[0, 0, 255], [0, 0, 255]],  # Blue color\n",
    "                  [[255, 255, 0], [255, 255, 0]]])  # Yellow color\n"
   ]
  },
  {
   "cell_type": "code",
   "execution_count": 9,
   "id": "ade01804-55c7-4d23-a3e9-5b6a5ec5ff58",
   "metadata": {},
   "outputs": [
    {
     "name": "stdout",
     "output_type": "stream",
     "text": [
      "Result with vertical concatenation (axis=0):\n",
      "[[[255   0   0]\n",
      "  [255   0   0]]\n",
      "\n",
      " [[  0 255   0]\n",
      "  [  0 255   0]]\n",
      "\n",
      " [[  0   0 255]\n",
      "  [  0   0 255]]\n",
      "\n",
      " [[255 255   0]\n",
      "  [255 255   0]]]\n",
      "Shape: (4, 2, 3)\n"
     ]
    }
   ],
   "source": [
    "# Concatenate vertically (add rows)\n",
    "result_vertical = np.append(img1, img2, axis=0)\n",
    "print(\"Result with vertical concatenation (axis=0):\")\n",
    "print(result_vertical)\n",
    "print(\"Shape:\", result_vertical.shape)\n"
   ]
  },
  {
   "cell_type": "code",
   "execution_count": 42,
   "id": "63ca65e1-d4f0-4622-9ec6-e210c4155230",
   "metadata": {},
   "outputs": [
    {
     "data": {
      "text/plain": [
       "array([[[  0, 255,   0],\n",
       "        [  0, 255,   0]],\n",
       "\n",
       "       [[  0,   0, 255],\n",
       "        [  0,   0, 255]]])"
      ]
     },
     "execution_count": 42,
     "metadata": {},
     "output_type": "execute_result"
    }
   ],
   "source": [
    "extracted_img1 = result_vertical[1:3:]\n",
    "extracted_img1"
   ]
  },
  {
   "cell_type": "code",
   "execution_count": null,
   "id": "067f4d9e-995a-4ba2-b348-5226db14faf3",
   "metadata": {},
   "outputs": [],
   "source": []
  }
 ],
 "metadata": {
  "kernelspec": {
   "display_name": "Python 3 (ipykernel)",
   "language": "python",
   "name": "python3"
  },
  "language_info": {
   "codemirror_mode": {
    "name": "ipython",
    "version": 3
   },
   "file_extension": ".py",
   "mimetype": "text/x-python",
   "name": "python",
   "nbconvert_exporter": "python",
   "pygments_lexer": "ipython3",
   "version": "3.10.12"
  }
 },
 "nbformat": 4,
 "nbformat_minor": 5
}
