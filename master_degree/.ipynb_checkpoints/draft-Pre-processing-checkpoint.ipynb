{
 "cells": [
  {
   "cell_type": "markdown",
   "id": "ecd5e7d2-f428-45a2-a541-a5a1e9bf0b1d",
   "metadata": {},
   "source": [
    "## Import Library"
   ]
  },
  {
   "cell_type": "code",
   "execution_count": 1,
   "id": "9be32df5-5fd0-4075-bdc2-e549e2ee1686",
   "metadata": {
    "scrolled": true
   },
   "outputs": [],
   "source": [
    "import numpy as np\n",
    "import pandas as pd\n",
    "import matplotlib.pyplot as plt\n",
    "import os\n",
    "import cv2"
   ]
  },
  {
   "cell_type": "markdown",
   "id": "ae02d63a-eb7b-4dcc-a5b2-3c8d67500111",
   "metadata": {},
   "source": [
    "## Pre-processing\n",
    "#### - Change Rgb image to grayscale\n",
    "#### - Resize picture"
   ]
  },
  {
   "cell_type": "code",
   "execution_count": 7,
   "id": "4a6a5746-a945-4fee-a64a-d21cdbc1aa95",
   "metadata": {},
   "outputs": [],
   "source": [
    "def display(im_path):\n",
    "    dpi = 80\n",
    "    im_data = plt.imread(im_path)\n",
    "    height, width  = im_data.shape[:2]\n",
    "    figsize = width / float(dpi), height / float(dpi)\n",
    "    fig = plt.figure(figsize=figsize)\n",
    "    ax = fig.add_axes([0, 0, 1, 1])\n",
    "    ax.axis('off')\n",
    "    ax.imshow(im_data, cmap='gray')\n",
    "    plt.show()"
   ]
  },
  {
   "cell_type": "code",
   "execution_count": 2,
   "id": "4c72d41c-86aa-4ccb-a76f-a93369d69fba",
   "metadata": {},
   "outputs": [],
   "source": [
    "ESC = 27\n",
    "def display(path):\n",
    "    img = cv2.imread(path)\n",
    "    cv2.imshow(\"img\", img)\n",
    "\n",
    "    while True:\n",
    "        if cv2.waitKey(1) & 0xFF == ESC: \n",
    "            break\n",
    "    cv2.destroyAllWindows()"
   ]
  },
  {
   "cell_type": "code",
   "execution_count": 3,
   "id": "830d121a-ef8d-44c0-b291-aface1737f15",
   "metadata": {},
   "outputs": [],
   "source": [
    "ESC = 27\n",
    "def display_img(img):\n",
    "    # img = cv2.imread(path)\n",
    "    cv2.imshow(\"img\", img)\n",
    "\n",
    "    while True:\n",
    "        if cv2.waitKey(1) & 0xFF == ESC: \n",
    "            break\n",
    "    cv2.destroyAllWindows()"
   ]
  },
  {
   "cell_type": "code",
   "execution_count": 4,
   "id": "1e33aa77-78b8-448d-a07c-869037b9d90c",
   "metadata": {},
   "outputs": [],
   "source": [
    "# list file\n",
    "input_path = \"./Input-test/\"\n",
    "input_files = os.listdir(input_path)"
   ]
  },
  {
   "cell_type": "code",
   "execution_count": 6,
   "id": "d042a6ea-bdd4-4a66-9eab-7094d0fb23fe",
   "metadata": {},
   "outputs": [],
   "source": [
    "# get full path of all image\n",
    "paths = []\n",
    "full_input_path = os.getcwd() + input_path[1:]\n",
    "for files in input_files:\n",
    "    paths.append(os.path.join(full_input_path + files))"
   ]
  },
  {
   "cell_type": "code",
   "execution_count": 7,
   "id": "585c244c-3a68-46f5-9e9b-c695f326d854",
   "metadata": {},
   "outputs": [],
   "source": [
    "# using append() with a list\n",
    "gray_imgs = []\n",
    "target_size = (100, 100)\n",
    "for path in paths:\n",
    "    img = cv2.imread(path)\n",
    "    gray_img = cv2.cvtColor(img, cv2.COLOR_BGR2GRAY)\n",
    "    gray_img_resized = cv2.resize(gray_img, target_size)\n",
    "    gray_imgs.append(gray_img_resized)\n",
    "    # cv2.imshow(\"img\", gray_img)\n",
    "    # cv2.waitKey(1000)\n",
    "# cv2.destroyAllWindows()\n",
    "gray_imgs = np.array(gray_imgs)"
   ]
  },
  {
   "cell_type": "code",
   "execution_count": 18,
   "id": "7d366793-15ff-4c6b-9599-4b332dd663c2",
   "metadata": {},
   "outputs": [
    {
     "data": {
      "text/plain": [
       "(8, 100, 100)"
      ]
     },
     "execution_count": 18,
     "metadata": {},
     "output_type": "execute_result"
    }
   ],
   "source": [
    "gray_imgs.shape"
   ]
  },
  {
   "cell_type": "code",
   "execution_count": 6,
   "id": "0e82a494-885c-485a-9389-7a9be9babf87",
   "metadata": {},
   "outputs": [],
   "source": [
    "# Using np.append() (without resizing) -> cannot use bacause size of picture not same and if not define axis, It will be flattern\n",
    "# img = cv2.imread(paths[0])\n",
    "# gray_img = cv2.cvtColor(img, cv2.COLOR_BGR2GRAY)\n",
    "# gray_imgs = np.array(gray_img)\n",
    "# # gray_imgs.shape\n",
    "# for i in range(1, len(paths)):\n",
    "#     img = cv2.imread(paths[i])\n",
    "#     gray_img = cv2.cvtColor(img, cv2.COLOR_BGR2GRAY)\n",
    "#     gray_imgs = np.append(gray_imgs, gray_img)\n"
   ]
  },
  {
   "cell_type": "code",
   "execution_count": 19,
   "id": "5385a9a4-fbf0-433d-9d50-ed551b9ebbc8",
   "metadata": {},
   "outputs": [
    {
     "name": "stdout",
     "output_type": "stream",
     "text": [
      "None\n",
      "----\n",
      "None\n",
      "----\n",
      "None\n",
      "----\n",
      "None\n",
      "----\n",
      "None\n",
      "----\n",
      "None\n",
      "----\n",
      "None\n",
      "----\n",
      "[[18 20 27 ... 92 77 78]\n",
      " [34 26 22 ... 97 82 82]\n",
      " [39 26 17 ... 98 83 83]\n",
      " ...\n",
      " [11 18 23 ... 57 58 67]\n",
      " [21 12 11 ... 49 65 74]\n",
      " [15 22 21 ... 65 59 60]]\n"
     ]
    }
   ],
   "source": [
    "# # Using np.vstack() with resizing\n",
    "# target_size = (100, 100)\n",
    "# gray_imgs = np.empty((0, *target_size))  # Initialize empty array with target size\n",
    "\n",
    "# for path in paths:\n",
    "#     img = cv2.imread(path)\n",
    "#     gray_img = cv2.cvtColor(img, cv2.COLOR_BGR2GRAY)\n",
    "#     gray_img_resized = cv2.resize(gray_img, target_size)\n",
    "#     gray_imgs = np.vstack([gray_imgs, gray_img_resized[np.newaxis, ...]])\n",
    "#     print(np.newaxis)\n",
    "#     print(\"----\")\n",
    "#     # gray_imgs = np.append(gray_imgs, gray_img_resized)\n",
    "\n",
    "#     # cv2.imshow(\"img\", gray_img_resized)\n",
    "#     # cv2.waitKey(1000)\n",
    "# # cv2.destroyAllWindows()\n",
    "# print(gray_img)\n"
   ]
  },
  {
   "cell_type": "code",
   "execution_count": 16,
   "id": "c05700ab-038a-4db6-8549-d9ba2394ad62",
   "metadata": {},
   "outputs": [],
   "source": [
    "display(\"./Input-test/chang.jpg\")"
   ]
  },
  {
   "cell_type": "code",
   "execution_count": 8,
   "id": "6c58fb7e-6cf2-4490-af85-b2177e774512",
   "metadata": {},
   "outputs": [],
   "source": [
    "img = cv2.imread(\"./Input-test/chang.jpg\")\n",
    "img = cv2.cvtColor(img, cv2.COLOR_BGR2GRAY)\n",
    "thresh, im_bw = cv2.threshold(img, 150, 255, cv2.THRESH_BINARY)\n",
    "# kernel = cv2.getStructuringElement(cv2.MORPH_RECT, (3, 3))\n",
    "# binary_image = cv2.morphologyEx(binary_image, cv2.MORPH_CLOSE, kernel)\n",
    "# cv2.imwrite(\"./Input-test/chang_th.jpg\")"
   ]
  },
  {
   "cell_type": "code",
   "execution_count": null,
   "id": "4c10559d-9627-4567-b869-caeb45c8d528",
   "metadata": {},
   "outputs": [],
   "source": [
    "# display_img(binary_image)\n",
    "display_img(im_bw)"
   ]
  },
  {
   "cell_type": "code",
   "execution_count": 9,
   "id": "f81fcb27-316f-4622-8474-9993d054882e",
   "metadata": {},
   "outputs": [],
   "source": [
    "def noise_removal(image):\n",
    "    import numpy as np\n",
    "    kernel = np.ones((1, 1), np.uint8)\n",
    "    image = cv2.dilate(image, kernel, iterations=1)\n",
    "    kernel = np.ones((1, 1), np.uint8)\n",
    "    image = cv2.erode(image, kernel, iterations=1)\n",
    "    image = cv2.morphologyEx(image, cv2.MORPH_CLOSE, kernel)\n",
    "    image = cv2.medianBlur(image, 3)\n",
    "    return (image)"
   ]
  },
  {
   "cell_type": "code",
   "execution_count": 12,
   "id": "1afd2cf8-d42c-440c-b947-9d6e00f8f37c",
   "metadata": {},
   "outputs": [
    {
     "data": {
      "text/plain": [
       "array([[255, 255, 255, ..., 255, 255, 255],\n",
       "       [255, 255, 255, ..., 255, 255, 255],\n",
       "       [255, 255, 255, ..., 255, 255, 255],\n",
       "       ...,\n",
       "       [255, 255, 255, ...,   0,   0,   0],\n",
       "       [255, 255, 255, ...,   0,   0,   0],\n",
       "       [255, 255, 255, ...,   0,   0,   0]], dtype=uint8)"
      ]
     },
     "execution_count": 12,
     "metadata": {},
     "output_type": "execute_result"
    }
   ],
   "source": [
    "rm_noise = noise_removal(im_bw)\n",
    "rm_noise"
   ]
  },
  {
   "cell_type": "code",
   "execution_count": null,
   "id": "9fa93267-93b3-4612-8d8c-ff2c24560524",
   "metadata": {},
   "outputs": [],
   "source": [
    "# cv2.cvtColor(rm_noise, cv2."
   ]
  },
  {
   "cell_type": "code",
   "execution_count": 13,
   "id": "5823d716-9730-46b1-a188-f91fbc2197d8",
   "metadata": {},
   "outputs": [
    {
     "data": {
      "image/png": "[encoded data removed]",
      "text/plain": [
       "<Figure size 1200x600 with 2 Axes>"
      ]
     },
     "metadata": {},
     "output_type": "display_data"
    }
   ],
   "source": [
    "# Create a figure to display the images\n",
    "plt.figure(figsize=(12, 6))  # Set the figure size\n",
    "\n",
    "# Display the first image\n",
    "plt.subplot(1, 2, 1)  # 1 row, 2 columns, 1st subplot\n",
    "plt.imshow(im_bw, cmap='gray')\n",
    "plt.title('Image 1')  # Title for the first image\n",
    "plt.axis('off')      # Hide axes\n",
    "\n",
    "# Display the second image\n",
    "plt.subplot(1, 2, 2)  # 1 row, 2 columns, 2nd subplot\n",
    "plt.imshow(rm_noise, cmap='gray')\n",
    "plt.title('Image 2')  # Title for the second image\n",
    "plt.axis('off')      # Hide axes\n",
    "\n",
    "# Show the plot\n",
    "plt.tight_layout()  # Adjust the layout to prevent overlap\n",
    "plt.show()\n"
   ]
  },
  {
   "cell_type": "code",
   "execution_count": 14,
   "id": "579463de-c039-4c41-b2b0-10c0ce611fd1",
   "metadata": {},
   "outputs": [],
   "source": [
    "def getSkewAngle(cvImage) -> float:\n",
    "    # Prep image, copy, convert to gray scale, blur, and threshold\n",
    "    newImage = cvImage.copy()\n",
    "    gray = cv2.cvtColor(newImage, cv2.COLOR_BGR2GRAY)\n",
    "    blur = cv2.GaussianBlur(gray, (9, 9), 0)\n",
    "    thresh = cv2.threshold(blur, 0, 255, cv2.THRESH_BINARY_INV + cv2.THRESH_OTSU)[1]\n",
    "\n",
    "    # Apply dilate to merge text into meaningful lines/paragraphs.\n",
    "    # Use larger kernel on X axis to merge characters into single line, cancelling out any spaces.\n",
    "    # But use smaller kernel on Y axis to separate between different blocks of text\n",
    "    kernel = cv2.getStructuringElement(cv2.MORPH_RECT, (30, 5))\n",
    "    dilate = cv2.dilate(thresh, kernel, iterations=2)\n",
    "\n",
    "    # Find all contours\n",
    "    contours, hierarchy = cv2.findContours(dilate, cv2.RETR_LIST, cv2.CHAIN_APPROX_SIMPLE)\n",
    "    contours = sorted(contours, key = cv2.contourArea, reverse = True)\n",
    "    for c in contours:\n",
    "        rect = cv2.boundingRect(c)\n",
    "        x,y,w,h = rect\n",
    "        cv2.rectangle(newImage,(x,y),(x+w,y+h),(0,255,0),2)\n",
    "\n",
    "    # Find largest contour and surround in min area box\n",
    "    largestContour = contours[0]\n",
    "    print (len(contours))\n",
    "    minAreaRect = cv2.minAreaRect(largestContour)\n",
    "    cv2.imwrite(\"temp/boxes.jpg\", newImage)\n",
    "    # Determine the angle. Convert it to the value that was originally used to obtain skewed image\n",
    "    angle = minAreaRect[-1]\n",
    "    if angle < -45:\n",
    "        angle = 90 + angle\n",
    "    return -1.0 * angle\n",
    "# Rotate the image around its center\n",
    "def rotateImage(cvImage, angle: float):\n",
    "    newImage = cvImage.copy()\n",
    "    (h, w) = newImage.shape[:2]\n",
    "    center = (w // 2, h // 2)\n",
    "    M = cv2.getRotationMatrix2D(center, angle, 1.0)\n",
    "    newImage = cv2.warpAffine(newImage, M, (w, h), flags=cv2.INTER_CUBIC, borderMode=cv2.BORDER_REPLICATE)\n",
    "    return newImage"
   ]
  },
  {
   "cell_type": "code",
   "execution_count": 15,
   "id": "9f64ca76-21bd-4522-ae50-eb67a6093abd",
   "metadata": {},
   "outputs": [],
   "source": [
    "# Deskew image\n",
    "def deskew(cvImage):\n",
    "    angle = getSkewAngle(cvImage)\n",
    "    return rotateImage(cvImage, -1.0 * angle)"
   ]
  },
  {
   "cell_type": "code",
   "execution_count": 19,
   "id": "8a8491ca-7340-490a-9e88-f1440eaedef6",
   "metadata": {},
   "outputs": [
    {
     "name": "stdout",
     "output_type": "stream",
     "text": [
      "1\n"
     ]
    }
   ],
   "source": [
    "new = cv2.imread(\"./Input-test/chang-re.jpg\")\n",
    "fixed = deskew(new)"
   ]
  },
  {
   "cell_type": "code",
   "execution_count": 20,
   "id": "d799c2ed-9df8-4126-8d77-f9b007c0e356",
   "metadata": {},
   "outputs": [
    {
     "data": {
      "text/plain": [
       "array([[[ 59, 109,  67],\n",
       "        [ 59, 107,  65],\n",
       "        [ 58, 104,  62],\n",
       "        ...,\n",
       "        [ 19,  37,  14],\n",
       "        [ 20,  38,  15],\n",
       "        [ 20,  38,  15]],\n",
       "\n",
       "       [[ 59, 109,  67],\n",
       "        [ 59, 107,  65],\n",
       "        [ 58, 104,  62],\n",
       "        ...,\n",
       "        [ 19,  37,  14],\n",
       "        [ 20,  38,  15],\n",
       "        [ 20,  38,  15]],\n",
       "\n",
       "       [[ 59, 109,  67],\n",
       "        [ 59, 107,  65],\n",
       "        [ 58, 104,  62],\n",
       "        ...,\n",
       "        [ 19,  37,  14],\n",
       "        [ 20,  38,  15],\n",
       "        [ 20,  38,  15]],\n",
       "\n",
       "       ...,\n",
       "\n",
       "       [[ 88, 156, 131],\n",
       "        [ 72, 140, 117],\n",
       "        [ 62, 128, 109],\n",
       "        ...,\n",
       "        [ 22,  44,  26],\n",
       "        [ 22,  44,  26],\n",
       "        [ 22,  44,  26]],\n",
       "\n",
       "       [[ 88, 156, 131],\n",
       "        [ 72, 140, 117],\n",
       "        [ 62, 128, 109],\n",
       "        ...,\n",
       "        [ 22,  44,  26],\n",
       "        [ 22,  44,  26],\n",
       "        [ 22,  44,  26]],\n",
       "\n",
       "       [[ 88, 156, 131],\n",
       "        [ 72, 140, 117],\n",
       "        [ 62, 128, 109],\n",
       "        ...,\n",
       "        [ 22,  44,  26],\n",
       "        [ 22,  44,  26],\n",
       "        [ 22,  44,  26]]], dtype=uint8)"
      ]
     },
     "execution_count": 20,
     "metadata": {},
     "output_type": "execute_result"
    }
   ],
   "source": [
    "fixed"
   ]
  },
  {
   "cell_type": "code",
   "execution_count": null,
   "id": "cbb11c7a-569e-43e2-8b97-eac4aa10feb2",
   "metadata": {},
   "outputs": [],
   "source": [
    "display_img(fixed)"
   ]
  },
  {
   "cell_type": "code",
   "execution_count": 11,
   "id": "4807f4ba-2aee-4675-afdb-2cdd2343b27e",
   "metadata": {},
   "outputs": [],
   "source": [
    "import cv2\n",
    "import pytesseract\n",
    "\n",
    "# Update this path to where Tesseract is installed\n",
    "pytesseract.pytesseract.tesseract_cmd = r'/usr/bin/tesseract'\n",
    "\n",
    "# Step 1: Read the image\n",
    "image = cv2.imread(\"./Input-test/5.jpg\")  # Replace with your image path\n",
    "\n",
    "# Step 2: Convert the image to grayscale\n",
    "gray_image = cv2.cvtColor(image, cv2.COLOR_BGR2GRAY)\n",
    "\n",
    "# Step 3: Apply thresholding to improve text visibility\n",
    "# You can adjust the thresholding method based on your image\n",
    "_, binary_image = cv2.threshold(gray_image, 150, 255, cv2.THRESH_BINARY + cv2.THRESH_OTSU)\n",
    "\n",
    "# Step 4: Use Tesseract to detect text and get bounding box coordinates\n",
    "# Use `output_type=pytesseract.Output.DICT` to get a dictionary output\n",
    "data = pytesseract.image_to_data(binary_image, output_type=pytesseract.Output.DICT)\n",
    "# data\n",
    "# Step 5: Loop through the detected text and draw bounding boxes\n",
    "for i in range(len(data['text'])):\n",
    "    if int(data['conf'][i]) > 60:  # Confidence threshold to filter out weak detections\n",
    "        (x, y, w, h) = (data['left'][i], data['top'][i], data['width'][i], data['height'][i])\n",
    "        # Draw a rectangle around the detected text\n",
    "        cv2.rectangle(image, (x, y), (x + w, y + h), (0, 255, 0), 2)  # Green bounding box\n",
    "\n",
    "# # Step 6: Display the results\n",
    "display_img(image)\n",
    "# cv2.imshow(\"Detected Text\", image)\n",
    "# cv2.waitKey(0)\n",
    "# cv2.destroyAllWindows()\n"
   ]
  },
  {
   "cell_type": "code",
   "execution_count": 14,
   "id": "e7638fc1-19f0-4602-9c1b-9034688499d6",
   "metadata": {},
   "outputs": [],
   "source": [
    "import pytesseract\n",
    "import cv2\n",
    "image = cv2.imread(\"./Input-test/chang.jpg\")\n",
    "base_image = image.copy()\n",
    "gray = cv2.cvtColor(image, cv2.COLOR_BGR2GRAY)\n",
    "blur = cv2.GaussianBlur(gray, (7,7), 0)\n",
    "thresh = cv2.threshold(blur, 0, 255, cv2.THRESH_BINARY_INV + cv2.THRESH_OTSU)[1]\n",
    "kernal = cv2.getStructuringElement(cv2.MORPH_RECT, (3, 13))\n",
    "dilate = cv2.dilate(thresh, kernal, iterations=1)\n",
    "cnts = cv2.findContours(dilate, cv2.RETR_EXTERNAL, cv2.CHAIN_APPROX_SIMPLE)\n",
    "cnts = cnts[0] if len(cnts) == 2 else cents[1]\n",
    "cnts = sorted(cnts, key=lambda x: cv2.boundingRect(x)[0])\n",
    "for c in cnts:\n",
    "    x, y, w, h = cv2.boundingRect(c)\n",
    "    if h > 200 and w > 20:\n",
    "        roi = image[y:y+h, x:x+h]\n",
    "        cv2.imwrite(\"./Input-test/chang_test.jpg\", roi)\n",
    "        cv2.rectangle(image, (x, y), (x+w, y+h), (36, 255, 12), 2)\n",
    "# cv2.imwrite(\"temp/index_bbox_new.png\", image)"
   ]
  },
  {
   "cell_type": "code",
   "execution_count": 15,
   "id": "54f55db7-acb2-4d28-9729-c0ae6515fcf4",
   "metadata": {},
   "outputs": [],
   "source": [
    "display(\"./Input-test/chang_test.jpg\")"
   ]
  },
  {
   "cell_type": "code",
   "execution_count": 31,
   "id": "b2677962-1080-431a-b317-c36b481cb3ec",
   "metadata": {},
   "outputs": [
    {
     "data": {
      "text/plain": [
       "'\\x0c'"
      ]
     },
     "execution_count": 31,
     "metadata": {},
     "output_type": "execute_result"
    }
   ],
   "source": [
    "# img = cv2.imread(\"./Input-test/plain-text.png\")\n",
    "img = cv2.imread(\"./Input-test/chang_test.jpg\")\n",
    "img = cv2.cvtColor(img, cv2.COLOR_BGR2GRAY)\n",
    "thresh, im_bw = cv2.threshold(img, 150, 255, cv2.THRESH_BINARY)\n",
    "# display_img(im_bw)\n",
    "text =  pytesseract.image_to_string(im_bw)\n",
    "text"
   ]
  },
  {
   "cell_type": "code",
   "execution_count": null,
   "id": "c9258cf0-b833-4291-88c4-97bc20d19c17",
   "metadata": {},
   "outputs": [],
   "source": [
    "# "
   ]
  }
 ],
 "metadata": {
  "kernelspec": {
   "display_name": "Python 3 (ipykernel)",
   "language": "python",
   "name": "python3"
  },
  "language_info": {
   "codemirror_mode": {
    "name": "ipython",
    "version": 3
   },
   "file_extension": ".py",
   "mimetype": "text/x-python",
   "name": "python",
   "nbconvert_exporter": "python",
   "pygments_lexer": "ipython3",
   "version": "3.10.12"
  }
 },
 "nbformat": 4,
 "nbformat_minor": 5
}
