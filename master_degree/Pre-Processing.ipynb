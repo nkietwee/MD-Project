{
 "cells": [
  {
   "cell_type": "markdown",
   "id": "ecd5e7d2-f428-45a2-a541-a5a1e9bf0b1d",
   "metadata": {},
   "source": [
    "## Import Library"
   ]
  },
  {
   "cell_type": "code",
   "execution_count": 2,
   "id": "9be32df5-5fd0-4075-bdc2-e549e2ee1686",
   "metadata": {
    "scrolled": true
   },
   "outputs": [],
   "source": [
    "import numpy as np\n",
    "import pandas as pd\n",
    "import os\n",
    "import cv2"
   ]
  },
  {
   "cell_type": "markdown",
   "id": "ae02d63a-eb7b-4dcc-a5b2-3c8d67500111",
   "metadata": {},
   "source": [
    "## Pre-processing\n",
    "#### - Change Rgb image to grayscale\n",
    "#### - Resize picture"
   ]
  },
  {
   "cell_type": "code",
   "execution_count": 3,
   "id": "1e33aa77-78b8-448d-a07c-869037b9d90c",
   "metadata": {},
   "outputs": [],
   "source": [
    "# list file\n",
    "input_path = \"./Input-test/\"\n",
    "input_files = os.listdir(input_path)"
   ]
  },
  {
   "cell_type": "code",
   "execution_count": 4,
   "id": "d042a6ea-bdd4-4a66-9eab-7094d0fb23fe",
   "metadata": {},
   "outputs": [],
   "source": [
    "# get full path of all image\n",
    "paths = []\n",
    "full_input_path = os.getcwd() + input_path[1:]\n",
    "for files in input_files:\n",
    "    paths.append(os.path.join(full_input_path + files))"
   ]
  },
  {
   "cell_type": "code",
   "execution_count": 20,
   "id": "585c244c-3a68-46f5-9e9b-c695f326d854",
   "metadata": {},
   "outputs": [],
   "source": [
    "# using append() with a list\n",
    "gray_imgs = []\n",
    "target_size = (100, 100)\n",
    "for path in paths:\n",
    "    img = cv2.imread(path)\n",
    "    gray_img = cv2.cvtColor(img, cv2.COLOR_BGR2GRAY)\n",
    "    gray_img_resized = cv2.resize(gray_img, target_size)\n",
    "    gray_imgs.append(gray_img_resized)\n",
    "    # cv2.imshow(\"img\", gray_img)\n",
    "    # cv2.waitKey(1000)\n",
    "# cv2.destroyAllWindows()\n",
    "gray_imgs = np.array(gray_imgs)"
   ]
  },
  {
   "cell_type": "code",
   "execution_count": 18,
   "id": "7d366793-15ff-4c6b-9599-4b332dd663c2",
   "metadata": {},
   "outputs": [
    {
     "data": {
      "text/plain": [
       "(7, 100, 100)"
      ]
     },
     "execution_count": 18,
     "metadata": {},
     "output_type": "execute_result"
    }
   ],
   "source": [
    "gray_imgs.shape"
   ]
  },
  {
   "cell_type": "code",
   "execution_count": 6,
   "id": "0e82a494-885c-485a-9389-7a9be9babf87",
   "metadata": {},
   "outputs": [],
   "source": [
    "# Using np.append() (without resizing) -> cannot use bacause size of picture not same and if not define axis, It will be flattern\n",
    "# img = cv2.imread(paths[0])\n",
    "# gray_img = cv2.cvtColor(img, cv2.COLOR_BGR2GRAY)\n",
    "# gray_imgs = np.array(gray_img)\n",
    "# # gray_imgs.shape\n",
    "# for i in range(1, len(paths)):\n",
    "#     img = cv2.imread(paths[i])\n",
    "#     gray_img = cv2.cvtColor(img, cv2.COLOR_BGR2GRAY)\n",
    "#     gray_imgs = np.append(gray_imgs, gray_img)\n"
   ]
  },
  {
   "cell_type": "code",
   "execution_count": 19,
   "id": "5385a9a4-fbf0-433d-9d50-ed551b9ebbc8",
   "metadata": {},
   "outputs": [
    {
     "name": "stdout",
     "output_type": "stream",
     "text": [
      "None\n",
      "----\n",
      "None\n",
      "----\n",
      "None\n",
      "----\n",
      "None\n",
      "----\n",
      "None\n",
      "----\n",
      "None\n",
      "----\n",
      "None\n",
      "----\n",
      "[[18 20 27 ... 92 77 78]\n",
      " [34 26 22 ... 97 82 82]\n",
      " [39 26 17 ... 98 83 83]\n",
      " ...\n",
      " [11 18 23 ... 57 58 67]\n",
      " [21 12 11 ... 49 65 74]\n",
      " [15 22 21 ... 65 59 60]]\n"
     ]
    }
   ],
   "source": [
    "# # Using np.vstack() with resizing\n",
    "# target_size = (100, 100)\n",
    "# gray_imgs = np.empty((0, *target_size))  # Initialize empty array with target size\n",
    "\n",
    "# for path in paths:\n",
    "#     img = cv2.imread(path)\n",
    "#     gray_img = cv2.cvtColor(img, cv2.COLOR_BGR2GRAY)\n",
    "#     gray_img_resized = cv2.resize(gray_img, target_size)\n",
    "#     gray_imgs = np.vstack([gray_imgs, gray_img_resized[np.newaxis, ...]])\n",
    "#     print(np.newaxis)\n",
    "#     print(\"----\")\n",
    "#     # gray_imgs = np.append(gray_imgs, gray_img_resized)\n",
    "\n",
    "#     # cv2.imshow(\"img\", gray_img_resized)\n",
    "#     # cv2.waitKey(1000)\n",
    "# # cv2.destroyAllWindows()\n",
    "# print(gray_img)\n"
   ]
  }
 ],
 "metadata": {
  "kernelspec": {
   "display_name": "Python 3 (ipykernel)",
   "language": "python",
   "name": "python3"
  },
  "language_info": {
   "codemirror_mode": {
    "name": "ipython",
    "version": 3
   },
   "file_extension": ".py",
   "mimetype": "text/x-python",
   "name": "python",
   "nbconvert_exporter": "python",
   "pygments_lexer": "ipython3",
   "version": "3.10.12"
  }
 },
 "nbformat": 4,
 "nbformat_minor": 5
}
