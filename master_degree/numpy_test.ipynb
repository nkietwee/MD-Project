{
 "cells": [
  {
   "cell_type": "code",
   "execution_count": 2,
   "id": "cbbba86a-6952-4418-bbe6-e49bfc608b7a",
   "metadata": {},
   "outputs": [],
   "source": [
    "import numpy as np"
   ]
  },
  {
   "cell_type": "code",
   "execution_count": 3,
   "id": "4412aa8f-50be-4ea0-9428-9c5694b29e49",
   "metadata": {},
   "outputs": [],
   "source": [
    "# Create a sample 2D array (5 rows, 4 columns)\n",
    "array_2d = np.array([[ 1,  2,  3,  4],\n",
    "                      [ 5,  6,  7,  8],\n",
    "                      [ 9, 10, 11, 12],\n",
    "                      [13, 14, 15, 16],\n",
    "                      [17, 18, 19, 20]])\n"
   ]
  },
  {
   "cell_type": "code",
   "execution_count": 5,
   "id": "1bcbaeb0-9552-4352-9dad-193158eb91fe",
   "metadata": {},
   "outputs": [
    {
     "name": "stdout",
     "output_type": "stream",
     "text": [
      "[[ 9 10]\n",
      " [13 14]\n",
      " [17 18]]\n"
     ]
    }
   ],
   "source": [
    "print(array_2d[2:5,0:2])"
   ]
  },
  {
   "cell_type": "code",
   "execution_count": 6,
   "id": "116b6c80-6311-4619-9526-99e4fb9b88cc",
   "metadata": {},
   "outputs": [
    {
     "name": "stdout",
     "output_type": "stream",
     "text": [
      "Result without specifying axis:\n",
      "[1 2 3 4 5 6 7 8]\n",
      "Shape: (8,)\n"
     ]
    }
   ],
   "source": [
    "# Create two sample 2D arrays (e.g., grayscale images)\n",
    "img1 = np.array([[1, 2], [3, 4]])  # Shape (2, 2)\n",
    "img2 = np.array([[5, 6], [7, 8]])  # Shape (2, 2)\n",
    "\n",
    "# Using np.append without specifying axis\n",
    "result = np.append(img1, img2)\n",
    "print(\"Result without specifying axis:\")\n",
    "print(result)\n",
    "print(\"Shape:\", result.shape)\n"
   ]
  },
  {
   "cell_type": "code",
   "execution_count": 13,
   "id": "a7ffe771-cd59-4d40-b675-d5a7239d8109",
   "metadata": {},
   "outputs": [
    {
     "name": "stdout",
     "output_type": "stream",
     "text": [
      "Result without specifying axis:\n",
      "[[1 2 5 6]\n",
      " [3 4 7 8]]\n",
      "Shape: (2, 4)\n"
     ]
    }
   ],
   "source": [
    "img1 = np.array([[1, 2], [3, 4]])  # Shape (2, 2)\n",
    "img2 = np.array([[5, 6], [7, 8]])  # Shape (2, 2)\n",
    "# img2 = np.array([[5, 6], [7, 8, 9]])  # Shape (2, 2)\n",
    "# img2 = np.array([[5, 6], [7, 8], [9, 10]])  # Shape (2, 2)\n",
    "\n",
    "# Using np.append without specifying axis\n",
    "result = np.append(img1, img2, axis=1)\n",
    "print(\"Result without specifying axis:\")\n",
    "print(result)\n",
    "print(\"Shape:\", result.shape)"
   ]
  },
  {
   "cell_type": "code",
   "execution_count": 10,
   "id": "e0a1ac37-271d-4b98-a471-69172f88bddd",
   "metadata": {},
   "outputs": [
    {
     "name": "stdout",
     "output_type": "stream",
     "text": [
      "[ 8 10]\n"
     ]
    }
   ],
   "source": [
    "print(result[3:,1])"
   ]
  },
  {
   "cell_type": "markdown",
   "id": "bb3688dd-3cd9-4f9b-a3ed-b8caea8fd97b",
   "metadata": {},
   "source": [
    "#### array[start_row:end_row, start_column:end_column]\n"
   ]
  },
  {
   "cell_type": "code",
   "execution_count": 33,
   "id": "9293fb47-12df-4f48-9159-e293c7de3bb8",
   "metadata": {},
   "outputs": [
    {
     "data": {
      "text/plain": [
       "array([8])"
      ]
     },
     "execution_count": 33,
     "metadata": {},
     "output_type": "execute_result"
    }
   ],
   "source": [
    "result[3:4,1]"
   ]
  },
  {
   "cell_type": "code",
   "execution_count": 11,
   "id": "08007c5f-8142-47cb-a5c0-1a697340bdca",
   "metadata": {},
   "outputs": [],
   "source": [
    "# Create two sample color images (3D arrays)\n",
    "# Image 1 (2x2 pixels, 3 color channels)\n",
    "img1 = np.array([[[255, 0, 0], [255, 0, 0]],  # Red color\n",
    "                  [[0, 255, 0], [0, 255, 0]]])  # Green color\n",
    "\n",
    "# Image 2 (2x2 pixels, 3 color channels)\n",
    "img2 = np.array([[[0, 0, 255], [0, 0, 255]],  # Blue color\n",
    "                  [[255, 255, 0], [255, 255, 0]]])  # Yellow color\n"
   ]
  },
  {
   "cell_type": "code",
   "execution_count": 9,
   "id": "ade01804-55c7-4d23-a3e9-5b6a5ec5ff58",
   "metadata": {},
   "outputs": [
    {
     "name": "stdout",
     "output_type": "stream",
     "text": [
      "Result with vertical concatenation (axis=0):\n",
      "[[[255   0   0]\n",
      "  [255   0   0]]\n",
      "\n",
      " [[  0 255   0]\n",
      "  [  0 255   0]]\n",
      "\n",
      " [[  0   0 255]\n",
      "  [  0   0 255]]\n",
      "\n",
      " [[255 255   0]\n",
      "  [255 255   0]]]\n",
      "Shape: (4, 2, 3)\n"
     ]
    }
   ],
   "source": [
    "# Concatenate vertically (add rows)\n",
    "result_vertical = np.append(img1, img2, axis=0)\n",
    "print(\"Result with vertical concatenation (axis=0):\")\n",
    "print(result_vertical)\n",
    "print(\"Shape:\", result_vertical.shape)\n"
   ]
  },
  {
   "cell_type": "code",
   "execution_count": 42,
   "id": "63ca65e1-d4f0-4622-9ec6-e210c4155230",
   "metadata": {},
   "outputs": [
    {
     "data": {
      "text/plain": [
       "array([[[  0, 255,   0],\n",
       "        [  0, 255,   0]],\n",
       "\n",
       "       [[  0,   0, 255],\n",
       "        [  0,   0, 255]]])"
      ]
     },
     "execution_count": 42,
     "metadata": {},
     "output_type": "execute_result"
    }
   ],
   "source": [
    "extracted_img1 = result_vertical[1:3:]\n",
    "extracted_img1"
   ]
  },
  {
   "cell_type": "code",
   "execution_count": 16,
   "id": "067f4d9e-995a-4ba2-b348-5226db14faf3",
   "metadata": {},
   "outputs": [
    {
     "name": "stdout",
     "output_type": "stream",
     "text": [
      "Hello\n",
      "Welcome\n",
      "to\n",
      "GeeksforGeeks\n"
     ]
    }
   ],
   "source": [
    "def myFun(*argv):\n",
    "    for arg in argv:\n",
    "        print(arg)\n",
    "myFun('Hello', 'Welcome', 'to', 'GeeksforGeeks')\n"
   ]
  },
  {
   "cell_type": "code",
   "execution_count": 18,
   "id": "c2f52348-b8c5-47cc-aedf-68b003c03f67",
   "metadata": {},
   "outputs": [
    {
     "name": "stdout",
     "output_type": "stream",
     "text": [
      "Hello\n",
      "Welcome\n",
      "to\n",
      "GeeksforGeeks\n"
     ]
    }
   ],
   "source": [
    "def myFun(argv):\n",
    "    for arg in argv:\n",
    "        print(arg)\n",
    "myFun(['Hello', 'Welcome', 'to', 'GeeksforGeeks'])\n"
   ]
  },
  {
   "cell_type": "code",
   "execution_count": 22,
   "id": "3d45b61a-b214-40ac-890f-b5985a180a89",
   "metadata": {},
   "outputs": [
    {
     "data": {
      "text/plain": [
       "array([], shape=(0, 100, 100), dtype=float64)"
      ]
     },
     "execution_count": 22,
     "metadata": {},
     "output_type": "execute_result"
    }
   ],
   "source": [
    "target_size = (100, 100)\n",
    "gray_imgs = np.empty((0, *target_size))  # Initialize empty array with target size\n",
    "gray_imgs"
   ]
  },
  {
   "cell_type": "code",
   "execution_count": 23,
   "id": "6a284747-0c22-41d6-b612-b2c9cbc03fb2",
   "metadata": {},
   "outputs": [
    {
     "name": "stdout",
     "output_type": "stream",
     "text": [
      "Using np.append:\n",
      "[[1 2]\n",
      " [3 4]\n",
      " [5 6]\n",
      " [7 8]]\n",
      "\n",
      "Using np.vstack:\n",
      "[[1 2]\n",
      " [3 4]\n",
      " [5 6]\n",
      " [7 8]]\n"
     ]
    }
   ],
   "source": [
    "import numpy as np\n",
    "\n",
    "# Example arrays\n",
    "arr1 = np.array([[1, 2], [3, 4]])\n",
    "arr2 = np.array([[5, 6], [7, 8]])\n",
    "\n",
    "# Using np.append\n",
    "appended_array = np.append(arr1, arr2, axis=0)  # This will flatten both arrays if axis=None\n",
    "print(\"Using np.append:\")\n",
    "print(appended_array)\n",
    "\n",
    "# Using np.vstack\n",
    "stacked_array = np.vstack((arr1, arr2))  # Stacks vertically\n",
    "print(\"\\nUsing np.vstack:\")\n",
    "print(stacked_array)\n"
   ]
  },
  {
   "cell_type": "code",
   "execution_count": null,
   "id": "d0155aad-34d3-4aa6-997c-45e3eb4ab2be",
   "metadata": {},
   "outputs": [],
   "source": []
  }
 ],
 "metadata": {
  "kernelspec": {
   "display_name": "Python 3 (ipykernel)",
   "language": "python",
   "name": "python3"
  },
  "language_info": {
   "codemirror_mode": {
    "name": "ipython",
    "version": 3
   },
   "file_extension": ".py",
   "mimetype": "text/x-python",
   "name": "python",
   "nbconvert_exporter": "python",
   "pygments_lexer": "ipython3",
   "version": "3.10.12"
  }
 },
 "nbformat": 4,
 "nbformat_minor": 5
}
