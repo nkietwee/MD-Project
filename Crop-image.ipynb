{
 "cells": [
  {
   "cell_type": "code",
   "execution_count": 33,
   "id": "5826bed2-7681-4732-a1d6-c3e93ad6ac81",
   "metadata": {},
   "outputs": [],
   "source": [
    "import cv2\n",
    "import os"
   ]
  },
  {
   "cell_type": "code",
   "execution_count": 34,
   "id": "5e935064-0f6f-44d7-ba75-6a4db13712c7",
   "metadata": {},
   "outputs": [],
   "source": [
    "# For open pic in folder\n",
    "for path in paths:\n",
    "    img = cv2.imread(path)\n",
    "    cv2.imshow(path, img)\n",
    "    cv2.waitKey(0)\n",
    "cv2.destroyAllWindows()"
   ]
  },
  {
   "cell_type": "code",
   "execution_count": 38,
   "id": "b10e799c-bd0c-477d-8798-3c5892612b7a",
   "metadata": {},
   "outputs": [],
   "source": [
    "# Change number for crop image\n",
    "x = 0\n",
    "y = 0\n",
    "w = 200\n",
    "h = 400"
   ]
  },
  {
   "cell_type": "code",
   "execution_count": 41,
   "id": "60d960a2-dc23-4bdd-b1f2-28299474ff5f",
   "metadata": {},
   "outputs": [],
   "source": [
    "input_folder = \"./pic/\"\n",
    "output_folder = \"./Output/\"\n",
    "if os.path.exists(output_path) is False :\n",
    "    os.makedirs(output_path)\n",
    "for pic in pics:\n",
    "    input_path = os.path.join(input_folder, pic)\n",
    "    output_path = os.path.join(output_folder, pic)\n",
    "    img = cv2.imread(input_path)\n",
    "    crop_img = img[x:w, y:h]\n",
    "    cv2.imwrite(output_path, crop_img)"
   ]
  },
  {
   "cell_type": "code",
   "execution_count": null,
   "id": "4547c355-b795-4306-b397-56aed649f089",
   "metadata": {},
   "outputs": [],
   "source": []
  }
 ],
 "metadata": {
  "kernelspec": {
   "display_name": "Python 3 (ipykernel)",
   "language": "python",
   "name": "python3"
  },
  "language_info": {
   "codemirror_mode": {
    "name": "ipython",
    "version": 3
   },
   "file_extension": ".py",
   "mimetype": "text/x-python",
   "name": "python",
   "nbconvert_exporter": "python",
   "pygments_lexer": "ipython3",
   "version": "3.12.4"
  }
 },
 "nbformat": 4,
 "nbformat_minor": 5
}
